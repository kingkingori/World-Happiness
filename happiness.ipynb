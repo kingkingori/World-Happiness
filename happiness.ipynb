{
 "cells": [
  {
   "cell_type": "code",
   "execution_count": null,
   "metadata": {},
   "outputs": [],
   "source": [
    "import pandas as pd"
   ]
  },
  {
   "cell_type": "code",
   "execution_count": null,
   "metadata": {},
   "outputs": [],
   "source": [
    "happiness = pd.read_csv('World_Happiness_2015.csv')\n",
    "happiness.info()"
   ]
  },
  {
   "cell_type": "code",
   "execution_count": null,
   "metadata": {},
   "outputs": [],
   "source": [
    "happiness.head(5)"
   ]
  },
  {
   "cell_type": "code",
   "execution_count": null,
   "metadata": {},
   "outputs": [],
   "source": [
    "# nunique because 'unique().count' does not work\n",
    "\n",
    "# happiness.groupby('Region').ngroups #may also be used to return count of groupings\n",
    "happiness['Country'].nunique(), happiness['Region'].nunique()\n",
    "# happiness.groupby('Region').get_group('Sub-Saharan Africa')"
   ]
  },
  {
   "cell_type": "code",
   "execution_count": null,
   "metadata": {},
   "outputs": [],
   "source": [
    "# happiness[happiness['Region'] == 'Southern Asia'].plot(x='Country', y='Happiness Score', kind='barh')"
   ]
  },
  {
   "cell_type": "code",
   "execution_count": null,
   "metadata": {},
   "outputs": [],
   "source": [
    "# import numpy as np\n",
    "\n",
    "'''\n",
    "FutureWarning: The provided callable <function mean at 0x0000020BF1668940> is currently using SeriesGroupBy.mean. \n",
    "In a future version of pandas, the provided callable will be used directly. \n",
    "To keep current behavior pass the string \"mean\" instead.\n",
    "\n",
    "-- .agg([np.mean, np.max]) and .agg('mean', 'max') have similar behavior but the latter is preferred\n",
    "'''\n",
    "\n",
    "happiness.groupby('Region')['Happiness Score'].agg('mean', 'max')"
   ]
  },
  {
   "cell_type": "code",
   "execution_count": null,
   "metadata": {},
   "outputs": [],
   "source": [
    "happiness.groupby('Region')[['Happiness Score', 'Family']].agg(['min', 'max', 'mean'])"
   ]
  },
  {
   "cell_type": "code",
   "execution_count": null,
   "metadata": {},
   "outputs": [],
   "source": [
    "happiness.pivot_table(index='Region', values=['Happiness Score', 'Family'], aggfunc=['min', 'max', 'mean'])"
   ]
  },
  {
   "cell_type": "code",
   "execution_count": null,
   "metadata": {},
   "outputs": [],
   "source": []
  }
 ],
 "metadata": {
  "kernelspec": {
   "display_name": "Python 3",
   "language": "python",
   "name": "python3"
  },
  "language_info": {
   "codemirror_mode": {
    "name": "ipython",
    "version": 3
   },
   "file_extension": ".py",
   "mimetype": "text/x-python",
   "name": "python",
   "nbconvert_exporter": "python",
   "pygments_lexer": "ipython3",
   "version": "3.10.0"
  }
 },
 "nbformat": 4,
 "nbformat_minor": 2
}
